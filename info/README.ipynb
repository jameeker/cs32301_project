{
 "cells": [
  {
   "cell_type": "markdown",
   "metadata": {},
   "source": [
    "# Anonymous Community Bulletin Board\n",
    "\n",
    "~ explanation of our idea here ~"
   ]
  },
  {
   "cell_type": "markdown",
   "metadata": {},
   "source": [
    "# Setup"
   ]
  },
  {
   "cell_type": "markdown",
   "metadata": {},
   "source": [
    "## **Develop inside a Python virtual environment**\n",
    "(1) Create a virtual environment:  \n",
    "- In a terminal, navigate to the main project repo here -> `your-path-to/cs32301_project` once there, execute `python -m venv .venv`\n",
    "\n",
    "(2) Activate the virtual environment:  \n",
    "- if on Windows, execute `.venv\\Scripts\\activate`   \n",
    "- if on macOS, execute `source .venv/bin/activate`\n",
    "\n",
    "(3) Install dependencies/requirements:\n",
    "- execute `pip install -r requirements.txt`  \n",
    "- *note*: run `pip freeze > requirements.txt` to update the requirements.txt file and upload what dependencies are needed for the project repo"
   ]
  },
  {
   "cell_type": "markdown",
   "metadata": {},
   "source": [
    "## **Run React app** (frontend)\n",
    "(1) Navigate to the frontend/ directory: `cd frontend`  \n",
    "(2) Install Node.js dependencies: `npm install`  \n",
    "(3) Start the React development server: `npm start`  \n",
    "\n",
    "## **Run Flask app** (backend)\n",
    "(1) Add a New Terminal  \n",
    "(2) Navigate to the backend/ directory: `cd backend`  \n",
    "(3) Start the Python flask app: `python app.py` "
   ]
  },
  {
   "cell_type": "markdown",
   "metadata": {},
   "source": [
    "## **Troubleshooting**\n",
    "If Pylance cannot resolve flask, despite it being installed in your .venv and present inside `requirements.txt`:  \n",
    "(1) press `Ctrl+Shift+P` (Win) or `Cmd+Shift+P` (macOS)  \n",
    "(2) type \"Python:Select Interpreter\"  \n",
    "(3) Select the recommended Python interpreter, looking something like:\n",
    "`Python X.XX.X     ('.venv')   ./.venv/bin/python`  "
   ]
  }
 ],
 "metadata": {
  "language_info": {
   "name": "python"
  }
 },
 "nbformat": 4,
 "nbformat_minor": 2
}
