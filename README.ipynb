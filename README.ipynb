{
 "cells": [
  {
   "cell_type": "markdown",
   "metadata": {},
   "source": [
    "## Develop inside a Python virtual environment\n",
    "(1) Create a virtual environment:  \n",
    "- In a terminal, navigate to the main project repo here -> `your-path-to/cs32301_project` once there, execute `python -m venv .venv`\n",
    "\n",
    "(2) Activate the virtual environment:  \n",
    "- if on Windows, execute `.venv\\Scripts\\activate`   \n",
    "- if on macOS, execute `source .venv/bin/activate`\n",
    "\n",
    "(3) Install dependencies/requirements:\n",
    "- execute `pip install -r requirements.txt`  \n",
    "- *note*: run `pip freeze > requirements.txt` to update the requirements.txt file and upload what dependencies are needed for the project repo"
   ]
  },
  {
   "cell_type": "markdown",
   "metadata": {},
   "source": [
    "## **Run application**\n",
    "(1) Start the React frontend - Navigate to frontend/ directory: `cd frontend`  \n",
    "(2) Install dependencies (if necessary) - execute `npm install`  \n",
    "(3) Start the React development server - execute `npm start`  "
   ]
  }
 ],
 "metadata": {
  "language_info": {
   "name": "python"
  }
 },
 "nbformat": 4,
 "nbformat_minor": 2
}
