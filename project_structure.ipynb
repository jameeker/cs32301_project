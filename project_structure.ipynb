{
 "cells": [
  {
   "cell_type": "markdown",
   "metadata": {},
   "source": [
    "`frontend/src/index.js`: main entry point of our React app.\n",
    "- essential file that renders the React app.  \n",
    "\n",
    "`frontend/src/App.js`: main application component that is the container holding all other components. "
   ]
  },
  {
   "cell_type": "markdown",
   "metadata": {},
   "source": [
    "Try these tree commands:  \n",
    "`tree -I 'node_modules|build|.git|.next|dist|coverage' -L 5 -o tree_structure.txt`\n",
    "\n",
    "`tree -I 'node_modules|build|.git|.next|dist|coverage' -L 3 -o tree_structure.txt`"
   ]
  }
 ],
 "metadata": {
  "language_info": {
   "name": "python"
  }
 },
 "nbformat": 4,
 "nbformat_minor": 2
}
