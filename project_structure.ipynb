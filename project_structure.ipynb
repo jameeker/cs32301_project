{
 "cells": [
  {
   "cell_type": "markdown",
   "metadata": {},
   "source": [
    "`frontend/src/index.js`: main entry point of our React app.\n",
    "- essential file that renders the React app.  \n",
    "\n",
    "`frontend/src/App.js`: main application component that is the container holding all other components. "
   ]
  }
 ],
 "metadata": {
  "language_info": {
   "name": "python"
  }
 },
 "nbformat": 4,
 "nbformat_minor": 2
}
